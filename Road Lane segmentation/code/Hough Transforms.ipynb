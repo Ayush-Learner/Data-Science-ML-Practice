{
 "cells": [
  {
   "cell_type": "code",
   "execution_count": 3,
   "metadata": {},
   "outputs": [
    {
     "name": "stdout",
     "output_type": "stream",
     "text": [
      "22\n"
     ]
    },
    {
     "name": "stderr",
     "output_type": "stream",
     "text": [
      "C:\\Users\\ayush\\Anaconda3\\lib\\site-packages\\ipykernel_launcher.py:65: RuntimeWarning: divide by zero encountered in int_scalars\n"
     ]
    }
   ],
   "source": [
    "import cv2 as cv\n",
    "import numpy as np\n",
    "import math\n",
    "from sklearn.cluster import KMeans\n",
    "import numpy as np\n",
    "import pandas as pd\n",
    "\"\"\"\n",
    "@file hough_lines.py\n",
    "@brief This program demonstrates line finding with the Hough transform\n",
    "\"\"\"\n",
    "import sys\n",
    "import math\n",
    "import cv2 as cv\n",
    "import numpy as np\n",
    "\n",
    "\n",
    "lines_= []\n",
    "indices = []\n",
    "\n",
    "b = 0\n",
    "a = 0\n",
    "c =0\n",
    "def main(argv):\n",
    "    global indices,a,b,c\n",
    "    default_file = 'hough_3.png' #enter outputs from DeepNet predictions here\n",
    "    filename = argv[0] if len(argv) > 0 else default_file\n",
    "    # Loads an image\n",
    "    src = cv.imread(default_file, cv.IMREAD_GRAYSCALE)\n",
    "    # Check if image is loaded fine\n",
    "    if src is None:\n",
    "        print ('Error opening image!')\n",
    "        print ('Usage: hough_lines.py [image_name -- default ' + default_file + '] \\n')\n",
    "        return -1\n",
    "    \n",
    "    \n",
    "    dst = cv.Canny(src, 50, 200, None, 3)\n",
    "    \n",
    "    # Copy edges to the images that will display the results in BGR\n",
    "    cdst = cv.cvtColor(dst, cv.COLOR_GRAY2BGR)\n",
    "    cdstP = np.copy(cdst)\n",
    "    \n",
    "    lines = cv.HoughLines(dst, 1, np.pi / 180, 150, None, 0, 0)\n",
    "    \n",
    "    if lines is not None:\n",
    "        \n",
    "        for i in range(0, len(lines)):\n",
    "            rho = lines[i][0][0]\n",
    "            theta = lines[i][0][1]\n",
    "            a = math.cos(theta)\n",
    "            b = math.sin(theta)\n",
    "            x0 = a * rho\n",
    "            y0 = b * rho\n",
    "            pt1 = (int(x0 + 1000*(-b)), int(y0 + 1000*(a)))\n",
    "            pt2 = (int(x0 - 1000*(-b)), int(y0 - 1000*(a)))\n",
    "            cv.line(cdst, pt1, pt2, (0,0,255), 1, cv.LINE_AA)\n",
    "            \n",
    "    \n",
    "    \n",
    "    linesP = cv.HoughLinesP(dst, 1, np.pi / 180, 50, None, 50, 10)\n",
    "    \n",
    "    \n",
    "    if linesP is not None:\n",
    "        #cluster and index finding\n",
    "        print(len(linesP))\n",
    "        slopes = np.asarray([(linesP[i][0][3]-linesP[i][0][1])/(linesP[i][0][2]-linesP[i][0][0]) for i in range(0, len(linesP))])\n",
    "        slopes_indeces = np.where((abs(slopes)>.1763)  & (abs(slopes)!=float(\"inf\")))\n",
    "        \n",
    "        linesP = linesP[slopes_indeces]\n",
    "        slopes = slopes[slopes_indeces]  \n",
    "        \n",
    "        a = linesP\n",
    "         \n",
    "        X = np.asarray(slopes).reshape(-1,1)\n",
    "        kmeans = KMeans(n_clusters=4, random_state=0).fit(X) \n",
    "        last_4_indeces = np.asarray(pd.Series(kmeans.labels_).drop_duplicates().index)\n",
    "        linesP = linesP[last_4_indeces]\n",
    "        \n",
    "        b = pd.Series(kmeans.labels_) \n",
    "        \n",
    "        clust_cent ={}\n",
    "        for  i in list(pd.Series(b).drop_duplicates()):\n",
    "            clust_cent[i] = []\n",
    "        for i,j in zip(a,b):\n",
    "            clust_cent[j].append(list(i[0]))\n",
    "    \n",
    "        mean_line = []\n",
    "        mean_line = [np.mean(clust_cent[i],axis=0) for i in clust_cent.keys()]\n",
    "        #mean_line\n",
    "        \n",
    "        \n",
    "        \n",
    "        for i in range(0, len(linesP)):\n",
    "        #for i in range(0,len(mean_line)):\n",
    "            l = linesP[i][0]\n",
    "            #l = list(mean_line[i])\n",
    "            cv.line(cdstP, (int(l[0]), int(l[1])), (int(l[2]), int(l[3])), (0,0,255), 3, cv.LINE_AA)\n",
    "            slope = (l[3]-l[1])/(l[2]-l[0]) \n",
    "            #print(slope)\n",
    "            #lines_.append(slope)\n",
    "                \n",
    "    \n",
    "    cv.imshow(\"Source\", src)\n",
    "    cv.imshow(\"Detected Lines (in red) - Standard Hough Line Transform\", cdst)\n",
    "    cv.imshow(\"Detected Lines (in red) - Probabilistic Line Transform\", cdstP)\n",
    "    cv.imwrite('mean_hough_lines.jpg',cdstP)\n",
    "    \n",
    "    cv.waitKey(0)\n",
    "    cv.destroyAllWindows()\n",
    "    return 0\n",
    "    \n",
    "if __name__ == \"__main__\":\n",
    "    main(sys.argv[1:])"
   ]
  },
  {
   "cell_type": "code",
   "execution_count": 71,
   "metadata": {},
   "outputs": [
    {
     "data": {
      "text/plain": [
       "0.3099374720850522"
      ]
     },
     "execution_count": 71,
     "metadata": {},
     "output_type": "execute_result"
    }
   ],
   "source": []
  },
  {
   "cell_type": "code",
   "execution_count": null,
   "metadata": {},
   "outputs": [],
   "source": []
  }
 ],
 "metadata": {
  "kernelspec": {
   "display_name": "Python 3",
   "language": "python",
   "name": "python3"
  },
  "language_info": {
   "codemirror_mode": {
    "name": "ipython",
    "version": 3
   },
   "file_extension": ".py",
   "mimetype": "text/x-python",
   "name": "python",
   "nbconvert_exporter": "python",
   "pygments_lexer": "ipython3",
   "version": "3.7.4"
  }
 },
 "nbformat": 4,
 "nbformat_minor": 2
}
