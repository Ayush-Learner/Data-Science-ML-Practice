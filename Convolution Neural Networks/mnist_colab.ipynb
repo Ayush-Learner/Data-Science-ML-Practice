{
  "nbformat": 4,
  "nbformat_minor": 0,
  "metadata": {
    "colab": {
      "name": "mnist_colab.ipynb",
      "provenance": []
    },
    "kernelspec": {
      "name": "python3",
      "display_name": "Python 3"
    }
  },
  "cells": [
    {
      "cell_type": "code",
      "metadata": {
        "id": "7MQvkA5xJ4Tv"
      },
      "source": [
        "import pandas as pd\n",
        "from keras import layers\n",
        "from keras import models\n",
        "import matplotlib.pyplot as plt\n",
        "import numpy as np\n",
        "import random"
      ],
      "execution_count": 1,
      "outputs": []
    },
    {
      "cell_type": "code",
      "metadata": {
        "id": "7FFZy8oyJ7NS",
        "colab": {
          "base_uri": "https://localhost:8080/"
        },
        "outputId": "2abf7b30-8d27-4149-c681-e888eb15b4b4"
      },
      "source": [
        "#Defining Neural Network\n",
        "model=models.Sequential()\n",
        "model.add(layers.Conv2D(32,(10,20),activation='relu',input_shape=(28,28,1)))\n",
        "model.add(layers.MaxPooling2D((2,2)))\n",
        "model.add(layers.Conv2D(64,(2,2),activation='relu'))\n",
        "model.add(layers.MaxPooling2D((2,2)))\n",
        "model.add(layers.Flatten())\n",
        "model.add(layers.Dense(10,activation='softmax'))\n",
        "model.summary()"
      ],
      "execution_count": 2,
      "outputs": [
        {
          "output_type": "stream",
          "text": [
            "Model: \"sequential\"\n",
            "_________________________________________________________________\n",
            "Layer (type)                 Output Shape              Param #   \n",
            "=================================================================\n",
            "conv2d (Conv2D)              (None, 19, 9, 32)         6432      \n",
            "_________________________________________________________________\n",
            "max_pooling2d (MaxPooling2D) (None, 9, 4, 32)          0         \n",
            "_________________________________________________________________\n",
            "conv2d_1 (Conv2D)            (None, 8, 3, 64)          8256      \n",
            "_________________________________________________________________\n",
            "max_pooling2d_1 (MaxPooling2 (None, 4, 1, 64)          0         \n",
            "_________________________________________________________________\n",
            "flatten (Flatten)            (None, 256)               0         \n",
            "_________________________________________________________________\n",
            "dense (Dense)                (None, 10)                2570      \n",
            "=================================================================\n",
            "Total params: 17,258\n",
            "Trainable params: 17,258\n",
            "Non-trainable params: 0\n",
            "_________________________________________________________________\n"
          ],
          "name": "stdout"
        }
      ]
    },
    {
      "cell_type": "code",
      "metadata": {
        "id": "NXPgz1TSQYMC",
        "colab": {
          "base_uri": "https://localhost:8080/"
        },
        "outputId": "1a1c73ea-e9dd-46d4-bbcc-37e56f05f888"
      },
      "source": [
        "from keras.datasets import mnist\n",
        "(x_train, y_train),(x_test, y_test)=mnist.load_data() "
      ],
      "execution_count": 3,
      "outputs": [
        {
          "output_type": "stream",
          "text": [
            "Downloading data from https://storage.googleapis.com/tensorflow/tf-keras-datasets/mnist.npz\n",
            "11493376/11490434 [==============================] - 0s 0us/step\n"
          ],
          "name": "stdout"
        }
      ]
    },
    {
      "cell_type": "code",
      "metadata": {
        "id": "GrUtY8rASTaj",
        "colab": {
          "base_uri": "https://localhost:8080/",
          "height": 283
        },
        "outputId": "6711eecc-c564-4fcd-b02a-ffc4ece9246d"
      },
      "source": [
        "#test\n",
        "n=random.randint(0,60000)\n",
        "plt.imshow(x_train[n]),y_train[n]"
      ],
      "execution_count": 4,
      "outputs": [
        {
          "output_type": "execute_result",
          "data": {
            "text/plain": [
              "(<matplotlib.image.AxesImage at 0x7f0923535358>, 5)"
            ]
          },
          "metadata": {
            "tags": []
          },
          "execution_count": 4
        },
        {
          "output_type": "display_data",
          "data": {
            "image/png": "[encoded data removed]",
            "text/plain": [
              "<Figure size 432x288 with 1 Axes>"
            ]
          },
          "metadata": {
            "tags": [],
            "needs_background": "light"
          }
        }
      ]
    },
    {
      "cell_type": "code",
      "metadata": {
        "id": "_CFqb7IFTATQ"
      },
      "source": [
        "#Normalizing MNIST\n",
        "x_train=x_train.astype('float32')\n",
        "x_test=x_test.astype('float32')\n",
        "x_train=x_train/255\n",
        "x_test=x_test/255"
      ],
      "execution_count": 5,
      "outputs": []
    },
    {
      "cell_type": "code",
      "metadata": {
        "id": "p6uN4RBNTXua"
      },
      "source": [
        "#Reshaping MNIST\n",
        "x_train = x_train.reshape((60000, 28, 28, 1))\n",
        "x_test = x_test.reshape((10000, 28, 28, 1))"
      ],
      "execution_count": 6,
      "outputs": []
    },
    {
      "cell_type": "code",
      "metadata": {
        "id": "K6GmAcWITpwi"
      },
      "source": [
        "#Converting Labels to vector\n",
        "from keras.utils import to_categorical\n",
        "y_train=to_categorical(y_train,num_classes=10)\n",
        "y_test=to_categorical(y_test,num_classes=10)"
      ],
      "execution_count": 7,
      "outputs": []
    },
    {
      "cell_type": "code",
      "metadata": {
        "id": "xV68YLEqUnRT",
        "colab": {
          "base_uri": "https://localhost:8080/"
        },
        "outputId": "5836dd48-3e1e-45e3-9925-0b5798d356cf"
      },
      "source": [
        "#test\n",
        "y_train[9098]"
      ],
      "execution_count": 8,
      "outputs": [
        {
          "output_type": "execute_result",
          "data": {
            "text/plain": [
              "array([0., 0., 1., 0., 0., 0., 0., 0., 0., 0.], dtype=float32)"
            ]
          },
          "metadata": {
            "tags": []
          },
          "execution_count": 8
        }
      ]
    },
    {
      "cell_type": "code",
      "metadata": {
        "id": "IWrSZK9yUsQX",
        "colab": {
          "base_uri": "https://localhost:8080/"
        },
        "outputId": "c0adc538-0fa2-4fa0-e19c-154c1b272d7d"
      },
      "source": [
        "#Defining Learning parameter\n",
        "model.compile(loss='categorical_crossentropy',optimizer='sgd',metrics=['accuracy','categorical_accuracy'])\n",
        "model.fit(x_train,y_train,epochs=20,batch_size=100)"
      ],
      "execution_count": 9,
      "outputs": [
        {
          "output_type": "stream",
          "text": [
            "Epoch 1/20\n",
            "600/600 [==============================] - 26s 42ms/step - loss: 1.7162 - accuracy: 0.5213 - categorical_accuracy: 0.5213\n",
            "Epoch 2/20\n",
            "600/600 [==============================] - 25s 42ms/step - loss: 0.3875 - accuracy: 0.8935 - categorical_accuracy: 0.8935\n",
            "Epoch 3/20\n",
            "600/600 [==============================] - 26s 43ms/step - loss: 0.2788 - accuracy: 0.9206 - categorical_accuracy: 0.9206\n",
            "Epoch 4/20\n",
            "600/600 [==============================] - 25s 42ms/step - loss: 0.2362 - accuracy: 0.9317 - categorical_accuracy: 0.9317\n",
            "Epoch 5/20\n",
            "600/600 [==============================] - 25s 42ms/step - loss: 0.2046 - accuracy: 0.9414 - categorical_accuracy: 0.9414\n",
            "Epoch 6/20\n",
            "600/600 [==============================] - 25s 42ms/step - loss: 0.1829 - accuracy: 0.9473 - categorical_accuracy: 0.9473\n",
            "Epoch 7/20\n",
            "600/600 [==============================] - 25s 42ms/step - loss: 0.1703 - accuracy: 0.9503 - categorical_accuracy: 0.9503\n",
            "Epoch 8/20\n",
            "600/600 [==============================] - 26s 43ms/step - loss: 0.1562 - accuracy: 0.9550 - categorical_accuracy: 0.9550\n",
            "Epoch 9/20\n",
            "600/600 [==============================] - 25s 42ms/step - loss: 0.1446 - accuracy: 0.9582 - categorical_accuracy: 0.9582\n",
            "Epoch 10/20\n",
            "600/600 [==============================] - 25s 42ms/step - loss: 0.1353 - accuracy: 0.9596 - categorical_accuracy: 0.9596\n",
            "Epoch 11/20\n",
            "600/600 [==============================] - 25s 41ms/step - loss: 0.1284 - accuracy: 0.9621 - categorical_accuracy: 0.9621\n",
            "Epoch 12/20\n",
            "600/600 [==============================] - 25s 42ms/step - loss: 0.1210 - accuracy: 0.9651 - categorical_accuracy: 0.9651\n",
            "Epoch 13/20\n",
            "600/600 [==============================] - 26s 43ms/step - loss: 0.1168 - accuracy: 0.9655 - categorical_accuracy: 0.9655\n",
            "Epoch 14/20\n",
            "600/600 [==============================] - 26s 43ms/step - loss: 0.1111 - accuracy: 0.9679 - categorical_accuracy: 0.9679\n",
            "Epoch 15/20\n",
            "600/600 [==============================] - 25s 42ms/step - loss: 0.1079 - accuracy: 0.9687 - categorical_accuracy: 0.9687\n",
            "Epoch 16/20\n",
            "600/600 [==============================] - 25s 42ms/step - loss: 0.1040 - accuracy: 0.9694 - categorical_accuracy: 0.9694\n",
            "Epoch 17/20\n",
            "600/600 [==============================] - 26s 43ms/step - loss: 0.1004 - accuracy: 0.9704 - categorical_accuracy: 0.9704\n",
            "Epoch 18/20\n",
            "600/600 [==============================] - 32s 53ms/step - loss: 0.0933 - accuracy: 0.9716 - categorical_accuracy: 0.9716\n",
            "Epoch 19/20\n",
            "600/600 [==============================] - 25s 42ms/step - loss: 0.0924 - accuracy: 0.9726 - categorical_accuracy: 0.9726\n",
            "Epoch 20/20\n",
            "600/600 [==============================] - 25s 42ms/step - loss: 0.0898 - accuracy: 0.9739 - categorical_accuracy: 0.9739\n"
          ],
          "name": "stdout"
        },
        {
          "output_type": "execute_result",
          "data": {
            "text/plain": [
              "<tensorflow.python.keras.callbacks.History at 0x7f0923a43cc0>"
            ]
          },
          "metadata": {
            "tags": []
          },
          "execution_count": 9
        }
      ]
    },
    {
      "cell_type": "code",
      "metadata": {
        "id": "dW2aNOvkhTlA",
        "colab": {
          "base_uri": "https://localhost:8080/"
        },
        "outputId": "671c806a-7a32-43ab-e2da-3cd346bdbb6e"
      },
      "source": [
        "#Evaluating\n",
        "model.evaluate(x_test,y_test)"
      ],
      "execution_count": 10,
      "outputs": [
        {
          "output_type": "stream",
          "text": [
            "313/313 [==============================] - 1s 4ms/step - loss: 0.0834 - accuracy: 0.9740 - categorical_accuracy: 0.9740\n"
          ],
          "name": "stdout"
        },
        {
          "output_type": "execute_result",
          "data": {
            "text/plain": [
              "[0.08342092484235764, 0.9739999771118164, 0.9739999771118164]"
            ]
          },
          "metadata": {
            "tags": []
          },
          "execution_count": 10
        }
      ]
    },
    {
      "cell_type": "code",
      "metadata": {
        "id": "vYs2Zxn9jU-8"
      },
      "source": [
        "#Predict\n",
        "pred=model.predict(x_test)"
      ],
      "execution_count": 11,
      "outputs": []
    },
    {
      "cell_type": "code",
      "metadata": {
        "id": "9Z1Y-aYQ17F2",
        "colab": {
          "base_uri": "https://localhost:8080/"
        },
        "outputId": "8342db63-ba97-4c1c-9bb4-3f67a1ab19a3"
      },
      "source": [
        "from sklearn.metrics import confusion_matrix\n",
        "pred_list=[]\n",
        "y_test_list=[]\n",
        "for i in range(len(y_test)):\n",
        "  pred_list.append(np.argmax(pred[i]))\n",
        "  y_test_list.append(np.argmax(y_test[i]))\n",
        "confusion_matrix(pred_list,y_test_list)"
      ],
      "execution_count": 12,
      "outputs": [
        {
          "output_type": "execute_result",
          "data": {
            "text/plain": [
              "array([[ 966,    0,    6,    2,    1,    5,    7,    1,    3,    4],\n",
              "       [   0, 1122,    2,    0,    0,    1,    3,    7,    0,    4],\n",
              "       [   1,    2,  993,    2,    3,    0,    0,   13,    3,    0],\n",
              "       [   1,    2,    9,  989,    0,   14,    1,    1,    6,    3],\n",
              "       [   0,    0,    5,    0,  960,    1,    5,    0,    4,    4],\n",
              "       [   1,    2,    1,    3,    0,  856,    4,    0,    2,    4],\n",
              "       [   5,    0,    3,    0,    3,    6,  933,    0,    2,    1],\n",
              "       [   2,    0,    5,    5,    0,    1,    1,  996,    3,    5],\n",
              "       [   3,    7,    5,    3,    3,    6,    4,    2,  946,    5],\n",
              "       [   1,    0,    3,    6,   12,    2,    0,    8,    5,  979]])"
            ]
          },
          "metadata": {
            "tags": []
          },
          "execution_count": 12
        }
      ]
    },
    {
      "cell_type": "code",
      "metadata": {
        "id": "jp6GcERq2yq-"
      },
      "source": [
        ""
      ],
      "execution_count": null,
      "outputs": []
    }
  ]
}