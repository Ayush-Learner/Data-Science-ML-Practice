{
 "cells": [
  {
   "cell_type": "code",
   "execution_count": 1,
   "metadata": {},
   "outputs": [
    {
     "name": "stderr",
     "output_type": "stream",
     "text": [
      "Using TensorFlow backend.\n"
     ]
    }
   ],
   "source": [
    "import pandas as pd\n",
    "import numpy as np\n",
    "import matplotlib.pyplot as plt\n",
    "from sklearn.cluster import KMeans\n",
    "from PIL import Image\n",
    "from sklearn.ensemble import RandomForestClassifier\n",
    "from sklearn.metrics import accuracy_score\n",
    "from keras.datasets import mnist"
   ]
  },
  {
   "cell_type": "code",
   "execution_count": 2,
   "metadata": {},
   "outputs": [],
   "source": [
    "(x_train, y_train),(x_test, y_test)=mnist.load_data() "
   ]
  },
  {
   "cell_type": "code",
   "execution_count": 3,
   "metadata": {},
   "outputs": [],
   "source": [
    "train_imgs = x_train\n",
    "test_imgs = x_test\n",
    "train_labels = y_train\n",
    "test_labels = y_test                   "
   ]
  },
  {
   "cell_type": "code",
   "execution_count": 4,
   "metadata": {},
   "outputs": [],
   "source": [
    "def view_image(index,img_data,label_data):\n",
    "    print(\"Label: \" + str(label_data[index]))\n",
    "    arr = img_data[index , :].reshape((28,28))\n",
    "    plt.imshow(arr,cmap='gray')"
   ]
  },
  {
   "cell_type": "code",
   "execution_count": 5,
   "metadata": {},
   "outputs": [
    {
     "name": "stdout",
     "output_type": "stream",
     "text": [
      "Label: 1\n"
     ]
    },
    {
     "data": {
      "image/png": "[encoded data removed]",
      "text/plain": [
       "<Figure size 432x288 with 1 Axes>"
      ]
     },
     "metadata": {
      "needs_background": "light"
     },
     "output_type": "display_data"
    }
   ],
   "source": [
    "view_image(102,train_imgs,train_labels)"
   ]
  },
  {
   "cell_type": "code",
   "execution_count": 6,
   "metadata": {},
   "outputs": [],
   "source": [
    "def patch_of_image(index,img_data):\n",
    "    arr = img_data[index , :].reshape((28,28))\n",
    "    i,j = np.random.randint(4, size=2)\n",
    "    arr = arr[i*6:(i*6)+10,j*6:(j*6)+10]\n",
    "    arr = arr.reshape((1,100))\n",
    "    return arr"
   ]
  },
  {
   "cell_type": "code",
   "execution_count": 7,
   "metadata": {},
   "outputs": [],
   "source": [
    "train_patches = np.empty((60000,100), int)\n",
    "for i in range(60000):\n",
    "    train_patches[i] = patch_of_image(i,train_imgs)"
   ]
  },
  {
   "cell_type": "code",
   "execution_count": 8,
   "metadata": {},
   "outputs": [],
   "source": [
    "rand = np.random.choice(60000, 6000, replace=False)"
   ]
  },
  {
   "cell_type": "code",
   "execution_count": 9,
   "metadata": {},
   "outputs": [],
   "source": [
    "train_patches_sample = train_patches[rand, :]"
   ]
  },
  {
   "cell_type": "code",
   "execution_count": 10,
   "metadata": {},
   "outputs": [
    {
     "data": {
      "text/plain": [
       "array([253, 181,   0,   0,   0,   0,   0,   0,   0,   0, 253, 191,  25,\n",
       "         0,   0,   0,   0,   0,  21,  43, 253, 253, 228, 156, 156, 156,\n",
       "       156, 156, 216, 253, 250, 253, 253, 253, 253, 253, 253, 253, 253,\n",
       "       253,  91, 214, 240, 250, 250, 249, 251, 242, 245, 230,   0,   0,\n",
       "         0,  87,  93,  81,  99,  15,  45,   0,   0,   0,   0,   0,   0,\n",
       "         0,   0,   0,   0,   0,   0,   0,   0,   0,   0,   0,   0,   0,\n",
       "         0,   0,   0,   0,   0,   0,   0,   0,   0,   0,   0,   0,   0,\n",
       "         0,   0,   0,   0,   0,   0,   0,   0,   0])"
      ]
     },
     "execution_count": 10,
     "metadata": {},
     "output_type": "execute_result"
    }
   ],
   "source": [
    "train_patches_sample[5999]"
   ]
  },
  {
   "cell_type": "code",
   "execution_count": 12,
   "metadata": {},
   "outputs": [],
   "source": [
    "# kmeans"
   ]
  },
  {
   "cell_type": "code",
   "execution_count": 11,
   "metadata": {},
   "outputs": [],
   "source": [
    "kmeans = KMeans(n_clusters=40, random_state=0).fit(train_patches_sample)"
   ]
  },
  {
   "cell_type": "code",
   "execution_count": 12,
   "metadata": {},
   "outputs": [
    {
     "data": {
      "text/plain": [
       "array([ 1, 22, 17, ...,  1, 34, 12])"
      ]
     },
     "execution_count": 12,
     "metadata": {},
     "output_type": "execute_result"
    }
   ],
   "source": [
    "kmeans.predict(train_patches)"
   ]
  },
  {
   "cell_type": "code",
   "execution_count": 13,
   "metadata": {},
   "outputs": [],
   "source": [
    "_40_clusters= {k+1: [] for k in range(40)}\n",
    "clusters = {k+1: {j+1:{}  for j in range(40)} for k in range(40)}\n",
    "centers = {k+1: []  for k in range(1600)}"
   ]
  },
  {
   "cell_type": "code",
   "execution_count": 14,
   "metadata": {},
   "outputs": [],
   "source": [
    "for i in range(40):\n",
    "    _40_clusters[i+1] = np.argwhere(kmeans.predict(train_patches) == i).reshape((-1))"
   ]
  },
  {
   "cell_type": "code",
   "execution_count": 15,
   "metadata": {},
   "outputs": [
    {
     "data": {
      "text/plain": [
       "40"
      ]
     },
     "execution_count": 15,
     "metadata": {},
     "output_type": "execute_result"
    }
   ],
   "source": [
    "len(_40_clusters)"
   ]
  },
  {
   "cell_type": "code",
   "execution_count": 16,
   "metadata": {},
   "outputs": [],
   "source": [
    "for i in range(40):\n",
    "    x = np.take(train_patches,_40_clusters[i+1],axis = 0)\n",
    "    kmeans = KMeans(n_clusters=40, random_state=0).fit(x)\n",
    "    kmeans.predict(x)\n",
    "    for j in range(40):\n",
    "        clusters[i+1][j+1] = np.argwhere(kmeans.predict(train_patches) == j).reshape((-1))\n",
    "        centers[40*i+j+1] = kmeans.cluster_centers_[j]\n",
    "    "
   ]
  },
  {
   "cell_type": "code",
   "execution_count": 17,
   "metadata": {},
   "outputs": [
    {
     "data": {
      "text/plain": [
       "40"
      ]
     },
     "execution_count": 17,
     "metadata": {},
     "output_type": "execute_result"
    }
   ],
   "source": [
    "len(clusters)"
   ]
  },
  {
   "cell_type": "code",
   "execution_count": 18,
   "metadata": {},
   "outputs": [
    {
     "data": {
      "text/plain": [
       "1600"
      ]
     },
     "execution_count": 18,
     "metadata": {},
     "output_type": "execute_result"
    }
   ],
   "source": [
    "len(centers)"
   ]
  },
  {
   "cell_type": "code",
   "execution_count": 25,
   "metadata": {},
   "outputs": [],
   "source": [
    "# create 144 patches for each image"
   ]
  },
  {
   "cell_type": "code",
   "execution_count": 19,
   "metadata": {},
   "outputs": [],
   "source": [
    "def patch(index,img_data):\n",
    "    x = img_data[index].reshape((28,28))\n",
    "    arr = np.pad(x,1,'constant',constant_values = 0)\n",
    "    patch_array = np.empty((144,100), int)\n",
    "    row = 0\n",
    "    corners_i = [0,5,11,17]\n",
    "    corners_j = [0,5,11,17]\n",
    "    for i in range(3):\n",
    "        for j in range(3):\n",
    "            for k in corners_i:\n",
    "                for l in corners_j:\n",
    "                    pat = arr[k+i:k+i+10,l+j:l+j+10]\n",
    "                    patch_array[row] = pat.reshape((1,100))\n",
    "                    row +=1\n",
    "            \n",
    "    return patch_array"
   ]
  },
  {
   "cell_type": "code",
   "execution_count": 20,
   "metadata": {},
   "outputs": [],
   "source": [
    "def assign_centers(patch_array):\n",
    "    array_centers = []\n",
    "    for i in patch_array:\n",
    "        dist = 1000000000000000000\n",
    "        center = 0\n",
    "        for key, value in centers.items():\n",
    "            d = np.dot(np.transpose(i-value),i-value)\n",
    "            if d < dist:\n",
    "                dist = d\n",
    "                center = key\n",
    "        array_centers.append(center)\n",
    "    return array_centers      "
   ]
  },
  {
   "cell_type": "code",
   "execution_count": 21,
   "metadata": {},
   "outputs": [],
   "source": [
    "def hist(array_centers):\n",
    "    h = np.zeros(1600)\n",
    "    for i in array_centers:\n",
    "        h[i-1] += 1\n",
    "    return h"
   ]
  },
  {
   "cell_type": "code",
   "execution_count": 29,
   "metadata": {},
   "outputs": [],
   "source": [
    "# train hists"
   ]
  },
  {
   "cell_type": "code",
   "execution_count": 22,
   "metadata": {},
   "outputs": [],
   "source": [
    "train_imgs_sample = train_imgs[rand,:]\n",
    "train_labels_sample = train_labels[rand]"
   ]
  },
  {
   "cell_type": "code",
   "execution_count": 23,
   "metadata": {},
   "outputs": [
    {
     "name": "stdout",
     "output_type": "stream",
     "text": [
      "0.016666666666666666\n",
      "0.03333333333333333\n",
      "0.05\n",
      "0.06666666666666667\n",
      "0.08333333333333333\n",
      "0.1\n",
      "0.11666666666666667\n",
      "0.13333333333333333\n",
      "0.15\n",
      "0.16666666666666666\n",
      "0.18333333333333332\n",
      "0.2\n",
      "0.21666666666666667\n",
      "0.23333333333333334\n",
      "0.25\n",
      "0.26666666666666666\n",
      "0.2833333333333333\n",
      "0.3\n",
      "0.31666666666666665\n",
      "0.3333333333333333\n",
      "0.35\n",
      "0.36666666666666664\n",
      "0.38333333333333336\n",
      "0.4\n",
      "0.4166666666666667\n",
      "0.43333333333333335\n",
      "0.45\n",
      "0.4666666666666667\n",
      "0.48333333333333334\n",
      "0.5\n",
      "0.5166666666666667\n",
      "0.5333333333333333\n",
      "0.55\n",
      "0.5666666666666667\n",
      "0.5833333333333334\n",
      "0.6\n",
      "0.6166666666666667\n",
      "0.6333333333333333\n",
      "0.65\n",
      "0.6666666666666666\n",
      "0.6833333333333333\n",
      "0.7\n",
      "0.7166666666666667\n",
      "0.7333333333333333\n",
      "0.75\n",
      "0.7666666666666667\n",
      "0.7833333333333333\n",
      "0.8\n",
      "0.8166666666666667\n",
      "0.8333333333333334\n",
      "0.85\n",
      "0.8666666666666667\n",
      "0.8833333333333333\n",
      "0.9\n",
      "0.9166666666666666\n",
      "0.9333333333333333\n",
      "0.95\n",
      "0.9666666666666667\n",
      "0.9833333333333333\n",
      "1.0\n"
     ]
    }
   ],
   "source": [
    "train_hists = np.empty((6000,1600), int)\n",
    "for i in range(train_imgs_sample.shape[0]):\n",
    "    x = patch(i,train_imgs_sample)\n",
    "    l = np.array(assign_centers(x))\n",
    "    h = hist(l)\n",
    "    train_hists[i] = h\n",
    "    if (i+1)%100 == 0:\n",
    "        print((i+1)/6000)"
   ]
  },
  {
   "cell_type": "code",
   "execution_count": null,
   "metadata": {},
   "outputs": [],
   "source": [
    "#test hists"
   ]
  },
  {
   "cell_type": "code",
   "execution_count": 24,
   "metadata": {},
   "outputs": [
    {
     "name": "stdout",
     "output_type": "stream",
     "text": [
      "0.01\n",
      "0.02\n",
      "0.03\n",
      "0.04\n",
      "0.05\n",
      "0.06\n",
      "0.07\n",
      "0.08\n",
      "0.09\n",
      "0.1\n",
      "0.11\n",
      "0.12\n",
      "0.13\n",
      "0.14\n",
      "0.15\n",
      "0.16\n",
      "0.17\n",
      "0.18\n",
      "0.19\n",
      "0.2\n",
      "0.21\n",
      "0.22\n",
      "0.23\n",
      "0.24\n",
      "0.25\n",
      "0.26\n",
      "0.27\n",
      "0.28\n",
      "0.29\n",
      "0.3\n",
      "0.31\n",
      "0.32\n",
      "0.33\n",
      "0.34\n",
      "0.35\n",
      "0.36\n",
      "0.37\n",
      "0.38\n",
      "0.39\n",
      "0.4\n",
      "0.41\n",
      "0.42\n",
      "0.43\n",
      "0.44\n",
      "0.45\n",
      "0.46\n",
      "0.47\n",
      "0.48\n",
      "0.49\n",
      "0.5\n",
      "0.51\n",
      "0.52\n",
      "0.53\n",
      "0.54\n",
      "0.55\n",
      "0.56\n",
      "0.57\n",
      "0.58\n",
      "0.59\n",
      "0.6\n",
      "0.61\n",
      "0.62\n",
      "0.63\n",
      "0.64\n",
      "0.65\n",
      "0.66\n",
      "0.67\n",
      "0.68\n",
      "0.69\n",
      "0.7\n",
      "0.71\n",
      "0.72\n",
      "0.73\n",
      "0.74\n",
      "0.75\n",
      "0.76\n",
      "0.77\n",
      "0.78\n",
      "0.79\n",
      "0.8\n",
      "0.81\n",
      "0.82\n",
      "0.83\n",
      "0.84\n",
      "0.85\n",
      "0.86\n",
      "0.87\n",
      "0.88\n",
      "0.89\n",
      "0.9\n",
      "0.91\n",
      "0.92\n",
      "0.93\n",
      "0.94\n",
      "0.95\n",
      "0.96\n",
      "0.97\n",
      "0.98\n",
      "0.99\n",
      "1.0\n"
     ]
    }
   ],
   "source": [
    "test_hists = np.empty((10000,1600), int)\n",
    "for i in range(test_imgs.shape[0]):\n",
    "    x = patch(i,test_imgs)\n",
    "    l = np.array(assign_centers(x))\n",
    "    h = hist(l)\n",
    "    test_hists[i] = h\n",
    "    if (i+1)%100 == 0:\n",
    "        print((i+1)/10000)"
   ]
  },
  {
   "cell_type": "code",
   "execution_count": null,
   "metadata": {},
   "outputs": [],
   "source": [
    "# Multinomial Naive bayes classifier"
   ]
  },
  {
   "cell_type": "code",
   "execution_count": 25,
   "metadata": {},
   "outputs": [],
   "source": [
    "from sklearn.naive_bayes import MultinomialNB\n",
    "test_pred = MultinomialNB().fit(train_hists,train_labels_sample).predict(test_hists)"
   ]
  },
  {
   "cell_type": "code",
   "execution_count": 26,
   "metadata": {},
   "outputs": [
    {
     "data": {
      "text/plain": [
       "0.9417"
      ]
     },
     "execution_count": 26,
     "metadata": {},
     "output_type": "execute_result"
    }
   ],
   "source": [
    "accuracy_score(test_labels, test_pred)"
   ]
  },
  {
   "cell_type": "code",
   "execution_count": null,
   "metadata": {},
   "outputs": [],
   "source": [
    "#random classifier"
   ]
  },
  {
   "cell_type": "code",
   "execution_count": 27,
   "metadata": {},
   "outputs": [],
   "source": [
    "test_pred = RandomForestClassifier(n_estimators =200).fit(train_hists,train_labels_sample).predict(test_hists)"
   ]
  },
  {
   "cell_type": "code",
   "execution_count": 28,
   "metadata": {},
   "outputs": [
    {
     "data": {
      "text/plain": [
       "0.9293"
      ]
     },
     "execution_count": 28,
     "metadata": {},
     "output_type": "execute_result"
    }
   ],
   "source": [
    "accuracy_score(test_labels, test_pred)"
   ]
  },
  {
   "cell_type": "code",
   "execution_count": null,
   "metadata": {},
   "outputs": [],
   "source": []
  },
  {
   "cell_type": "code",
   "execution_count": null,
   "metadata": {},
   "outputs": [],
   "source": []
  }
 ],
 "metadata": {
  "kernelspec": {
   "display_name": "Python 3",
   "language": "python",
   "name": "python3"
  },
  "language_info": {
   "codemirror_mode": {
    "name": "ipython",
    "version": 3
   },
   "file_extension": ".py",
   "mimetype": "text/x-python",
   "name": "python",
   "nbconvert_exporter": "python",
   "pygments_lexer": "ipython3",
   "version": "3.7.4"
  }
 },
 "nbformat": 4,
 "nbformat_minor": 2
}
